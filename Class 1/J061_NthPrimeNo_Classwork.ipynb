{
  "nbformat": 4,
  "nbformat_minor": 0,
  "metadata": {
    "colab": {
      "name": "J061_NthPrimeNo_Classwork.ipynb",
      "provenance": [],
      "collapsed_sections": []
    },
    "kernelspec": {
      "name": "python3",
      "display_name": "Python 3"
    }
  },
  "cells": [
    {
      "cell_type": "code",
      "metadata": {
        "id": "qXotNo4fb7_l",
        "colab_type": "code",
        "colab": {}
      },
      "source": [
        "# importing library\n",
        "import math"
      ],
      "execution_count": 0,
      "outputs": []
    },
    {
      "cell_type": "code",
      "metadata": {
        "id": "4nhtmawNb9X7",
        "colab_type": "code",
        "colab": {}
      },
      "source": [
        "## Function to find the nth prime no.\n",
        "def nth_prime_no(n):\n",
        "  if n==1 :\n",
        "    return 2\n",
        "  count = 1\n",
        "  a = 1\n",
        "\n",
        "  while(count < n):\n",
        "    a += 2\n",
        "    if isPrime(a):\n",
        "      count += 1\n",
        "\n",
        "  return a"
      ],
      "execution_count": 0,
      "outputs": []
    },
    {
      "cell_type": "code",
      "metadata": {
        "id": "se9y2QYncF05",
        "colab_type": "code",
        "colab": {}
      },
      "source": [
        "## Function to check if a number is prime or not\n",
        "def isPrime(num):\n",
        "  for i in range (2,num//2):\n",
        "    if (num % i == 0):\n",
        "      return False\n",
        "  return True"
      ],
      "execution_count": 0,
      "outputs": []
    },
    {
      "cell_type": "code",
      "metadata": {
        "id": "lmQWue9ocKoh",
        "colab_type": "code",
        "colab": {
          "base_uri": "https://localhost:8080/",
          "height": 34
        },
        "outputId": "4ce95e6d-8e59-464c-aecf-becd5e34bcdf"
      },
      "source": [
        "# Get output for n=5\n",
        "nth_prime_no(5)"
      ],
      "execution_count": 8,
      "outputs": [
        {
          "output_type": "execute_result",
          "data": {
            "text/plain": [
              "11"
            ]
          },
          "metadata": {
            "tags": []
          },
          "execution_count": 8
        }
      ]
    },
    {
      "cell_type": "code",
      "metadata": {
        "id": "rh7VvX8kcfIT",
        "colab_type": "code",
        "colab": {
          "base_uri": "https://localhost:8080/",
          "height": 34
        },
        "outputId": "cddfc022-7363-4833-c263-2437e114161f"
      },
      "source": [
        "nth_prime_no(6)"
      ],
      "execution_count": 9,
      "outputs": [
        {
          "output_type": "execute_result",
          "data": {
            "text/plain": [
              "13"
            ]
          },
          "metadata": {
            "tags": []
          },
          "execution_count": 9
        }
      ]
    },
    {
      "cell_type": "code",
      "metadata": {
        "id": "ZPOUU_3zch8_",
        "colab_type": "code",
        "colab": {}
      },
      "source": [
        ""
      ],
      "execution_count": 0,
      "outputs": []
    }
  ]
}