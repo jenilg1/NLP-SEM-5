{
  "nbformat": 4,
  "nbformat_minor": 0,
  "metadata": {
    "colab": {
      "name": "J061_nltkPipeline_Classwork.ipynb",
      "provenance": [],
      "collapsed_sections": []
    },
    "kernelspec": {
      "name": "python3",
      "display_name": "Python 3"
    }
  },
  "cells": [
    {
      "cell_type": "code",
      "metadata": {
        "id": "zj42c_dolcNl",
        "colab_type": "code",
        "colab": {}
      },
      "source": [
        "from nltk.tokenize import MWETokenizer\n",
        "from nltk.stem import WordNetLemmatizer\n",
        "from nltk import pos_tag as pos"
      ],
      "execution_count": 0,
      "outputs": []
    },
    {
      "cell_type": "code",
      "metadata": {
        "id": "HbiaX3ArleAV",
        "colab_type": "code",
        "colab": {}
      },
      "source": [
        "import pandas as pd\n",
        "import nltk"
      ],
      "execution_count": 0,
      "outputs": []
    },
    {
      "cell_type": "code",
      "metadata": {
        "id": "1qMuh2vHlkKC",
        "colab_type": "code",
        "colab": {}
      },
      "source": [
        "data = pd.read_json('http://snap.stanford.edu/data/amazon/productGraph/categoryFiles/reviews_Office_Products_5.json.gz',lines=True)"
      ],
      "execution_count": 0,
      "outputs": []
    },
    {
      "cell_type": "code",
      "metadata": {
        "id": "is1bldq6lkwr",
        "colab_type": "code",
        "colab": {}
      },
      "source": [
        "df = pd.DataFrame(data)"
      ],
      "execution_count": 0,
      "outputs": []
    },
    {
      "cell_type": "code",
      "metadata": {
        "id": "23fYyXtClm75",
        "colab_type": "code",
        "colab": {}
      },
      "source": [
        "mwet = MWETokenizer()\n",
        "lmt = WordNetLemmatizer()"
      ],
      "execution_count": 0,
      "outputs": []
    },
    {
      "cell_type": "code",
      "metadata": {
        "id": "CG2DnMNjlqem",
        "colab_type": "code",
        "colab": {
          "base_uri": "https://localhost:8080/",
          "height": 54
        },
        "outputId": "6ccc4ded-1daa-47f6-d593-64d62101bcfd"
      },
      "source": [
        "text = df['reviewText'][7]\n",
        "text"
      ],
      "execution_count": 6,
      "outputs": [
        {
          "output_type": "execute_result",
          "data": {
            "text/plain": [
              "'Bought this for my boss because he lost his.  He loves this calculator & would not be caught without it.  It really helps him with his day to day work & he is the CEO of my company.  If the CEO swears by them then they must be a great little calculator.'"
            ]
          },
          "metadata": {
            "tags": []
          },
          "execution_count": 6
        }
      ]
    },
    {
      "cell_type": "code",
      "metadata": {
        "id": "JkYZI2BUls-F",
        "colab_type": "code",
        "colab": {
          "base_uri": "https://localhost:8080/",
          "height": 151
        },
        "outputId": "6118ec41-1367-49a2-a33c-4d8b5dcd9720"
      },
      "source": [
        "nltk.download('wordnet')\n",
        "nltk.download('averaged_perceptron_tagger')\n",
        "nltk.download('punkt')"
      ],
      "execution_count": 7,
      "outputs": [
        {
          "output_type": "stream",
          "text": [
            "[nltk_data] Downloading package wordnet to /root/nltk_data...\n",
            "[nltk_data]   Unzipping corpora/wordnet.zip.\n",
            "[nltk_data] Downloading package averaged_perceptron_tagger to\n",
            "[nltk_data]     /root/nltk_data...\n",
            "[nltk_data]   Unzipping taggers/averaged_perceptron_tagger.zip.\n",
            "[nltk_data] Downloading package punkt to /root/nltk_data...\n",
            "[nltk_data]   Unzipping tokenizers/punkt.zip.\n"
          ],
          "name": "stdout"
        },
        {
          "output_type": "execute_result",
          "data": {
            "text/plain": [
              "True"
            ]
          },
          "metadata": {
            "tags": []
          },
          "execution_count": 7
        }
      ]
    },
    {
      "cell_type": "code",
      "metadata": {
        "id": "QQjiV-3Wlv_6",
        "colab_type": "code",
        "colab": {}
      },
      "source": [
        "def NLTKPipeline(str):\n",
        "  word_tokenize = nltk.tokenize.word_tokenize(str)\n",
        "  tokens = mwet.tokenize(str.split())\n",
        "  MWElemma = ' '.join([lmt.lemmatize(word,'v') for word in tokens])\n",
        "  WordTokenizeLemma = ' '.join([lmt.lemmatize(word,'v') for word in word_tokenize])\n",
        "  tags = dict(pos(str.split()))\n",
        "  adj_tags = ' '.join(tag for tag in tags if tags[tag] == 'JJ')\n",
        "  final = {'WordTokenize' : word_tokenize,'MWETokens' : tokens, 'MWELemma' : MWElemma, 'WordTokenizeLemma': WordTokenizeLemma, 'Tags' : tags,  'Adjective Tags' : adj_tags  }\n",
        "  return final"
      ],
      "execution_count": 0,
      "outputs": []
    },
    {
      "cell_type": "code",
      "metadata": {
        "id": "_biurTmIlyw5",
        "colab_type": "code",
        "colab": {
          "base_uri": "https://localhost:8080/",
          "height": 1000
        },
        "outputId": "2796ba86-a14c-4318-979a-0cc56eecef7e"
      },
      "source": [
        "NLTKPipeline(text)"
      ],
      "execution_count": 9,
      "outputs": [
        {
          "output_type": "execute_result",
          "data": {
            "text/plain": [
              "{'Adjective Tags': 'great little',\n",
              " 'MWELemma': 'Bought this for my boss because he lose his. He love this calculator & would not be catch without it. It really help him with his day to day work & he be the CEO of my company. If the CEO swear by them then they must be a great little calculator.',\n",
              " 'MWETokens': ['Bought',\n",
              "  'this',\n",
              "  'for',\n",
              "  'my',\n",
              "  'boss',\n",
              "  'because',\n",
              "  'he',\n",
              "  'lost',\n",
              "  'his.',\n",
              "  'He',\n",
              "  'loves',\n",
              "  'this',\n",
              "  'calculator',\n",
              "  '&',\n",
              "  'would',\n",
              "  'not',\n",
              "  'be',\n",
              "  'caught',\n",
              "  'without',\n",
              "  'it.',\n",
              "  'It',\n",
              "  'really',\n",
              "  'helps',\n",
              "  'him',\n",
              "  'with',\n",
              "  'his',\n",
              "  'day',\n",
              "  'to',\n",
              "  'day',\n",
              "  'work',\n",
              "  '&',\n",
              "  'he',\n",
              "  'is',\n",
              "  'the',\n",
              "  'CEO',\n",
              "  'of',\n",
              "  'my',\n",
              "  'company.',\n",
              "  'If',\n",
              "  'the',\n",
              "  'CEO',\n",
              "  'swears',\n",
              "  'by',\n",
              "  'them',\n",
              "  'then',\n",
              "  'they',\n",
              "  'must',\n",
              "  'be',\n",
              "  'a',\n",
              "  'great',\n",
              "  'little',\n",
              "  'calculator.'],\n",
              " 'Tags': {'&': 'CC',\n",
              "  'Bought': 'NNP',\n",
              "  'CEO': 'NNP',\n",
              "  'He': 'PRP',\n",
              "  'If': 'IN',\n",
              "  'It': 'PRP',\n",
              "  'a': 'DT',\n",
              "  'be': 'VB',\n",
              "  'because': 'IN',\n",
              "  'boss': 'NN',\n",
              "  'by': 'IN',\n",
              "  'calculator': 'NN',\n",
              "  'calculator.': 'NN',\n",
              "  'caught': 'VBN',\n",
              "  'company.': 'NN',\n",
              "  'day': 'NN',\n",
              "  'for': 'IN',\n",
              "  'great': 'JJ',\n",
              "  'he': 'PRP',\n",
              "  'helps': 'VBZ',\n",
              "  'him': 'PRP',\n",
              "  'his': 'PRP$',\n",
              "  'his.': 'NN',\n",
              "  'is': 'VBZ',\n",
              "  'it.': 'NN',\n",
              "  'little': 'JJ',\n",
              "  'lost': 'VBD',\n",
              "  'loves': 'VBZ',\n",
              "  'must': 'MD',\n",
              "  'my': 'PRP$',\n",
              "  'not': 'RB',\n",
              "  'of': 'IN',\n",
              "  'really': 'RB',\n",
              "  'swears': 'NNS',\n",
              "  'the': 'DT',\n",
              "  'them': 'PRP',\n",
              "  'then': 'RB',\n",
              "  'they': 'PRP',\n",
              "  'this': 'DT',\n",
              "  'to': 'TO',\n",
              "  'with': 'IN',\n",
              "  'without': 'IN',\n",
              "  'work': 'NN',\n",
              "  'would': 'MD'},\n",
              " 'WordTokenize': ['Bought',\n",
              "  'this',\n",
              "  'for',\n",
              "  'my',\n",
              "  'boss',\n",
              "  'because',\n",
              "  'he',\n",
              "  'lost',\n",
              "  'his',\n",
              "  '.',\n",
              "  'He',\n",
              "  'loves',\n",
              "  'this',\n",
              "  'calculator',\n",
              "  '&',\n",
              "  'would',\n",
              "  'not',\n",
              "  'be',\n",
              "  'caught',\n",
              "  'without',\n",
              "  'it',\n",
              "  '.',\n",
              "  'It',\n",
              "  'really',\n",
              "  'helps',\n",
              "  'him',\n",
              "  'with',\n",
              "  'his',\n",
              "  'day',\n",
              "  'to',\n",
              "  'day',\n",
              "  'work',\n",
              "  '&',\n",
              "  'he',\n",
              "  'is',\n",
              "  'the',\n",
              "  'CEO',\n",
              "  'of',\n",
              "  'my',\n",
              "  'company',\n",
              "  '.',\n",
              "  'If',\n",
              "  'the',\n",
              "  'CEO',\n",
              "  'swears',\n",
              "  'by',\n",
              "  'them',\n",
              "  'then',\n",
              "  'they',\n",
              "  'must',\n",
              "  'be',\n",
              "  'a',\n",
              "  'great',\n",
              "  'little',\n",
              "  'calculator',\n",
              "  '.'],\n",
              " 'WordTokenizeLemma': 'Bought this for my boss because he lose his . He love this calculator & would not be catch without it . It really help him with his day to day work & he be the CEO of my company . If the CEO swear by them then they must be a great little calculator .'}"
            ]
          },
          "metadata": {
            "tags": []
          },
          "execution_count": 9
        }
      ]
    },
    {
      "cell_type": "code",
      "metadata": {
        "id": "lbLo7mqIl00i",
        "colab_type": "code",
        "colab": {}
      },
      "source": [
        ""
      ],
      "execution_count": 0,
      "outputs": []
    }
  ]
}